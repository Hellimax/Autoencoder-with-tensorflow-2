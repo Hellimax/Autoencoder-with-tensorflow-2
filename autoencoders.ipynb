{
 "cells": [
  {
   "cell_type": "markdown",
   "metadata": {},
   "source": [
    "importing the required libraries "
   ]
  },
  {
   "cell_type": "code",
   "execution_count": 1,
   "metadata": {
    "ExecuteTime": {
     "end_time": "2020-07-24T18:11:04.364633Z",
     "start_time": "2020-07-24T18:11:01.903194Z"
    }
   },
   "outputs": [],
   "source": [
    "import tensorflow as tf\n",
    "import numpy as np\n",
    "import matplotlib.pyplot as plt"
   ]
  },
  {
   "cell_type": "markdown",
   "metadata": {},
   "source": [
    "Importing the famous Mnist data "
   ]
  },
  {
   "cell_type": "code",
   "execution_count": 29,
   "metadata": {
    "ExecuteTime": {
     "end_time": "2020-07-24T18:18:21.921014Z",
     "start_time": "2020-07-24T18:18:21.707915Z"
    }
   },
   "outputs": [],
   "source": [
    "(xtrain,_),(xtest,_) = tf.keras.datasets.mnist.load_data()"
   ]
  },
  {
   "cell_type": "code",
   "execution_count": 3,
   "metadata": {
    "ExecuteTime": {
     "end_time": "2020-07-24T18:11:06.113850Z",
     "start_time": "2020-07-24T18:11:06.109581Z"
    }
   },
   "outputs": [
    {
     "data": {
      "text/plain": [
       "(60000, 28, 28)"
      ]
     },
     "execution_count": 3,
     "metadata": {},
     "output_type": "execute_result"
    }
   ],
   "source": [
    "xtrain.shape"
   ]
  },
  {
   "cell_type": "code",
   "execution_count": 4,
   "metadata": {
    "ExecuteTime": {
     "end_time": "2020-07-24T18:11:07.112725Z",
     "start_time": "2020-07-24T18:11:07.106295Z"
    }
   },
   "outputs": [
    {
     "data": {
      "text/plain": [
       "(10000, 28, 28)"
      ]
     },
     "execution_count": 4,
     "metadata": {},
     "output_type": "execute_result"
    }
   ],
   "source": [
    "xtest.shape"
   ]
  },
  {
   "cell_type": "markdown",
   "metadata": {},
   "source": [
    "plotting some of the images "
   ]
  },
  {
   "cell_type": "code",
   "execution_count": 6,
   "metadata": {
    "ExecuteTime": {
     "end_time": "2020-07-24T18:11:37.157212Z",
     "start_time": "2020-07-24T18:11:36.661988Z"
    }
   },
   "outputs": [
    {
     "data": {
      "image/png": "[encoded data removed]",
      "text/plain": [
       "<Figure size 720x720 with 25 Axes>"
      ]
     },
     "metadata": {},
     "output_type": "display_data"
    }
   ],
   "source": [
    "plt.figure(figsize=(10,10))\n",
    "for i in range(25):\n",
    "    plt.subplot(5,5,i+1)\n",
    "    plt.xticks([])\n",
    "    plt.yticks([])\n",
    "    plt.grid(False)\n",
    "    plt.imshow(xtrain[i], cmap=plt.cm.binary)\n",
    "plt.show()"
   ]
  },
  {
   "cell_type": "markdown",
   "metadata": {},
   "source": [
    "Normalizing the images "
   ]
  },
  {
   "cell_type": "code",
   "execution_count": 7,
   "metadata": {
    "ExecuteTime": {
     "end_time": "2020-07-24T18:11:41.463945Z",
     "start_time": "2020-07-24T18:11:41.390154Z"
    }
   },
   "outputs": [],
   "source": [
    "xtrain = xtrain.astype(\"float32\")/255\n",
    "xtest = xtest.astype(\"float32\")/255"
   ]
  },
  {
   "cell_type": "markdown",
   "metadata": {},
   "source": [
    "coverting images into 1-D array to provide them to the model "
   ]
  },
  {
   "cell_type": "code",
   "execution_count": 10,
   "metadata": {
    "ExecuteTime": {
     "end_time": "2020-07-24T18:11:43.864118Z",
     "start_time": "2020-07-24T18:11:43.859940Z"
    }
   },
   "outputs": [],
   "source": [
    "xtrain = xtrain.reshape((len(xtrain),xtrain[0].reshape(-1).shape[0]))"
   ]
  },
  {
   "cell_type": "code",
   "execution_count": 11,
   "metadata": {
    "ExecuteTime": {
     "end_time": "2020-07-24T18:11:44.270887Z",
     "start_time": "2020-07-24T18:11:44.265906Z"
    }
   },
   "outputs": [],
   "source": [
    "xtest = xtest.reshape((len(xtest),xtest[0].reshape(-1).shape[0]))"
   ]
  },
  {
   "cell_type": "code",
   "execution_count": 12,
   "metadata": {
    "ExecuteTime": {
     "end_time": "2020-07-24T18:11:44.707107Z",
     "start_time": "2020-07-24T18:11:44.701091Z"
    }
   },
   "outputs": [
    {
     "data": {
      "text/plain": [
       "(60000, 784)"
      ]
     },
     "execution_count": 12,
     "metadata": {},
     "output_type": "execute_result"
    }
   ],
   "source": [
    "xtrain.shape"
   ]
  },
  {
   "cell_type": "code",
   "execution_count": 13,
   "metadata": {
    "ExecuteTime": {
     "end_time": "2020-07-24T18:11:46.299295Z",
     "start_time": "2020-07-24T18:11:46.295934Z"
    }
   },
   "outputs": [
    {
     "data": {
      "text/plain": [
       "(10000, 784)"
      ]
     },
     "execution_count": 13,
     "metadata": {},
     "output_type": "execute_result"
    }
   ],
   "source": [
    "xtest.shape"
   ]
  },
  {
   "cell_type": "markdown",
   "metadata": {},
   "source": [
    "Here We are creating a deep autoencoder "
   ]
  },
  {
   "cell_type": "code",
   "execution_count": 30,
   "metadata": {
    "ExecuteTime": {
     "end_time": "2020-07-24T18:31:02.109471Z",
     "start_time": "2020-07-24T18:31:02.102246Z"
    }
   },
   "outputs": [],
   "source": [
    "def autoencoder(encoded_dim,original_dim):\n",
    "    #input layer with no: of neurons= shape of the input\n",
    "    input_layer = tf.keras.layers.Input(shape=(original_dim,))\n",
    "    \n",
    "    #1st encoding layer with 132 neurons and activation as relu\n",
    "    encoded1 = tf.keras.layers.Dense(132,activation = \"relu\")(input_layer)\n",
    "    \n",
    "    #2nd encoding layer with 64 neurons and activation as relu\n",
    "    encoded2 = tf.keras.layers.Dense(64,activation = \"relu\")(encoded1)\n",
    "    \n",
    "    #encoded input\n",
    "    bottle_neck = tf.keras.layers.Dense(encoded_dim,activation = \"relu\")(encoded2)\n",
    "    \n",
    "    #1st decoding layer with 64 neurons and activation as relu\n",
    "    decoded1 = tf.keras.layers.Dense(64,activation = \"relu\")(bottle_neck)\n",
    "    \n",
    "    #2nd encoding layer with 132 neurons and activation as relu\n",
    "    decoded2 = tf.keras.layers.Dense(132,activation = \"relu\")(decoded1)\n",
    "    \n",
    "    #output latyer with gives the reconstructed image\n",
    "    output_layer = tf.keras.layers.Dense(original_dim,activation=\"sigmoid\")(decoded2)\n",
    "    \n",
    "    #making the complete model\n",
    "    autoencoder = tf.keras.Model(input_layer,output_layer)\n",
    "    \n",
    "    \n",
    "    #making a seprate encoder(with taked original image as input)\n",
    "    def encoder(input_layer,bottle_neck): \n",
    "        encoder = tf.keras.Model(input_layer,bottle_neck)\n",
    "        return encoder\n",
    "    \n",
    "    #making a seprate decoder function which takes encoded image as input\n",
    "    def decoder(encoded_dim,original_dim,autoencoder):\n",
    "        input_layer = tf.keras.layers.Input(shape=((encoded_dim,)))\n",
    "        decoded1 = autoencoder.layers[-3](input_layer)\n",
    "        decoded2 = autoencoder.layers[-2](decoded1)\n",
    "        output_layer = autoencoder.layers[-1](decoded2)\n",
    "        decoder = tf.keras.Model(input_layer,output_layer)\n",
    "        return decoder\n",
    "    \n",
    "    encoder = encoder(input_layer,bottle_neck)\n",
    "    decoder = decoder(encoded_dim,original_dim,autoencoder)\n",
    "    \n",
    "    return autoencoder,encoder,decoder"
   ]
  },
  {
   "cell_type": "code",
   "execution_count": 15,
   "metadata": {
    "ExecuteTime": {
     "end_time": "2020-07-24T18:11:50.868606Z",
     "start_time": "2020-07-24T18:11:50.728310Z"
    }
   },
   "outputs": [],
   "source": [
    "autoencoder,encoder,decoder = autoencoder(32,784)"
   ]
  },
  {
   "cell_type": "markdown",
   "metadata": {},
   "source": [
    "compiling the model "
   ]
  },
  {
   "cell_type": "code",
   "execution_count": 16,
   "metadata": {
    "ExecuteTime": {
     "end_time": "2020-07-24T18:11:51.978421Z",
     "start_time": "2020-07-24T18:11:51.960785Z"
    }
   },
   "outputs": [],
   "source": [
    "autoencoder.compile(optimizer=\"adam\",loss = tf.keras.losses.binary_crossentropy,metrics=[\"accuracy\"])"
   ]
  },
  {
   "cell_type": "markdown",
   "metadata": {},
   "source": [
    "training the model "
   ]
  },
  {
   "cell_type": "code",
   "execution_count": 17,
   "metadata": {
    "ExecuteTime": {
     "end_time": "2020-07-24T18:13:51.625510Z",
     "start_time": "2020-07-24T18:11:55.658015Z"
    }
   },
   "outputs": [
    {
     "name": "stdout",
     "output_type": "stream",
     "text": [
      "Epoch 1/30\n",
      "1875/1875 [==============================] - 4s 2ms/step - loss: 0.1482 - accuracy: 0.0109\n",
      "Epoch 2/30\n",
      "1875/1875 [==============================] - 4s 2ms/step - loss: 0.1083 - accuracy: 0.0124\n",
      "Epoch 3/30\n",
      "1875/1875 [==============================] - 4s 2ms/step - loss: 0.0993 - accuracy: 0.0125\n",
      "Epoch 4/30\n",
      "1875/1875 [==============================] - 4s 2ms/step - loss: 0.0950 - accuracy: 0.0136\n",
      "Epoch 5/30\n",
      "1875/1875 [==============================] - 4s 2ms/step - loss: 0.0923 - accuracy: 0.0141\n",
      "Epoch 6/30\n",
      "1875/1875 [==============================] - 4s 2ms/step - loss: 0.0903 - accuracy: 0.0139\n",
      "Epoch 7/30\n",
      "1875/1875 [==============================] - 4s 2ms/step - loss: 0.0889 - accuracy: 0.0147\n",
      "Epoch 8/30\n",
      "1875/1875 [==============================] - 4s 2ms/step - loss: 0.0878 - accuracy: 0.0138\n",
      "Epoch 9/30\n",
      "1875/1875 [==============================] - 4s 2ms/step - loss: 0.0868 - accuracy: 0.0137\n",
      "Epoch 10/30\n",
      "1875/1875 [==============================] - 4s 2ms/step - loss: 0.0861 - accuracy: 0.0140\n",
      "Epoch 11/30\n",
      "1875/1875 [==============================] - 4s 2ms/step - loss: 0.0852 - accuracy: 0.0136\n",
      "Epoch 12/30\n",
      "1875/1875 [==============================] - 4s 2ms/step - loss: 0.0846 - accuracy: 0.0143\n",
      "Epoch 13/30\n",
      "1875/1875 [==============================] - 4s 2ms/step - loss: 0.0841 - accuracy: 0.0141\n",
      "Epoch 14/30\n",
      "1875/1875 [==============================] - 4s 2ms/step - loss: 0.0837 - accuracy: 0.0142\n",
      "Epoch 15/30\n",
      "1875/1875 [==============================] - 4s 2ms/step - loss: 0.0834 - accuracy: 0.0147\n",
      "Epoch 16/30\n",
      "1875/1875 [==============================] - 4s 2ms/step - loss: 0.0831 - accuracy: 0.0146\n",
      "Epoch 17/30\n",
      "1875/1875 [==============================] - 4s 2ms/step - loss: 0.0828 - accuracy: 0.0142\n",
      "Epoch 18/30\n",
      "1875/1875 [==============================] - 4s 2ms/step - loss: 0.0826 - accuracy: 0.0143\n",
      "Epoch 19/30\n",
      "1875/1875 [==============================] - 4s 2ms/step - loss: 0.0825 - accuracy: 0.0145\n",
      "Epoch 20/30\n",
      "1875/1875 [==============================] - 4s 2ms/step - loss: 0.0823 - accuracy: 0.0144\n",
      "Epoch 21/30\n",
      "1875/1875 [==============================] - 4s 2ms/step - loss: 0.0822 - accuracy: 0.0146\n",
      "Epoch 22/30\n",
      "1875/1875 [==============================] - 4s 2ms/step - loss: 0.0820 - accuracy: 0.0152\n",
      "Epoch 23/30\n",
      "1875/1875 [==============================] - 4s 2ms/step - loss: 0.0820 - accuracy: 0.0139\n",
      "Epoch 24/30\n",
      "1875/1875 [==============================] - 4s 2ms/step - loss: 0.0819 - accuracy: 0.0147\n",
      "Epoch 25/30\n",
      "1875/1875 [==============================] - 4s 2ms/step - loss: 0.0817 - accuracy: 0.0150\n",
      "Epoch 26/30\n",
      "1875/1875 [==============================] - 4s 2ms/step - loss: 0.0816 - accuracy: 0.0143\n",
      "Epoch 27/30\n",
      "1875/1875 [==============================] - 4s 2ms/step - loss: 0.0816 - accuracy: 0.0145\n",
      "Epoch 28/30\n",
      "1875/1875 [==============================] - 4s 2ms/step - loss: 0.0815 - accuracy: 0.0142\n",
      "Epoch 29/30\n",
      "1875/1875 [==============================] - 4s 2ms/step - loss: 0.0814 - accuracy: 0.0147\n",
      "Epoch 30/30\n",
      "1875/1875 [==============================] - 4s 2ms/step - loss: 0.0814 - accuracy: 0.0149\n"
     ]
    },
    {
     "data": {
      "text/plain": [
       "<tensorflow.python.keras.callbacks.History at 0x7f3f688111d0>"
      ]
     },
     "execution_count": 17,
     "metadata": {},
     "output_type": "execute_result"
    }
   ],
   "source": [
    "autoencoder.fit(xtrain,xtrain,epochs=30)"
   ]
  },
  {
   "cell_type": "markdown",
   "metadata": {},
   "source": [
    "trying autoencoder on some test images "
   ]
  },
  {
   "cell_type": "code",
   "execution_count": 22,
   "metadata": {
    "ExecuteTime": {
     "end_time": "2020-07-24T18:15:07.879332Z",
     "start_time": "2020-07-24T18:15:07.844129Z"
    }
   },
   "outputs": [],
   "source": [
    "encoded = encoder.predict(xtest[:25])"
   ]
  },
  {
   "cell_type": "code",
   "execution_count": 23,
   "metadata": {
    "ExecuteTime": {
     "end_time": "2020-07-24T18:15:26.558762Z",
     "start_time": "2020-07-24T18:15:26.527484Z"
    }
   },
   "outputs": [],
   "source": [
    "decoded = decoder.predict(encoded)"
   ]
  },
  {
   "cell_type": "code",
   "execution_count": 27,
   "metadata": {
    "ExecuteTime": {
     "end_time": "2020-07-24T18:17:14.973810Z",
     "start_time": "2020-07-24T18:17:14.478719Z"
    }
   },
   "outputs": [
    {
     "data": {
      "image/png": "[encoded data removed]",
      "text/plain": [
       "<Figure size 720x720 with 25 Axes>"
      ]
     },
     "metadata": {},
     "output_type": "display_data"
    }
   ],
   "source": [
    "plt.figure(figsize=(10,10))\n",
    "for i in range(25):\n",
    "    plt.subplot(5,5,i+1)\n",
    "    plt.xticks([])\n",
    "    plt.yticks([])\n",
    "    plt.grid(False)\n",
    "    plt.imshow(decoded[i].reshape((28,28)),cmap=plt.cm.binary)\n",
    "plt.show()"
   ]
  },
  {
   "cell_type": "code",
   "execution_count": 28,
   "metadata": {
    "ExecuteTime": {
     "end_time": "2020-07-24T18:17:22.100349Z",
     "start_time": "2020-07-24T18:17:21.604193Z"
    }
   },
   "outputs": [
    {
     "data": {
      "image/png": "[encoded data removed]",
      "text/plain": [
       "<Figure size 720x720 with 25 Axes>"
      ]
     },
     "metadata": {},
     "output_type": "display_data"
    }
   ],
   "source": [
    "plt.figure(figsize=(10,10))\n",
    "for i in range(25):\n",
    "    plt.subplot(5,5,i+1)\n",
    "    plt.xticks([])\n",
    "    plt.yticks([])\n",
    "    plt.grid(False)\n",
    "    plt.imshow(xtest[i].reshape((28,28)),cmap=plt.cm.binary)\n",
    "plt.show()"
   ]
  },
  {
   "cell_type": "code",
   "execution_count": null,
   "metadata": {},
   "outputs": [],
   "source": []
  }
 ],
 "metadata": {
  "kernelspec": {
   "display_name": "Python 3",
   "language": "python",
   "name": "python3"
  },
  "language_info": {
   "codemirror_mode": {
    "name": "ipython",
    "version": 3
   },
   "file_extension": ".py",
   "mimetype": "text/x-python",
   "name": "python",
   "nbconvert_exporter": "python",
   "pygments_lexer": "ipython3",
   "version": "3.6.9"
  }
 },
 "nbformat": 4,
 "nbformat_minor": 4
}
